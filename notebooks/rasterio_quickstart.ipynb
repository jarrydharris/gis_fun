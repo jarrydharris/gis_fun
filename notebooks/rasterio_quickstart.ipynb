{
 "cells": [
  {
   "cell_type": "markdown",
   "metadata": {},
   "source": [
    "# RasterIO Quickstart\n",
    "\n",
    "https://rasterio.readthedocs.io/en/latest/quickstart.html"
   ]
  },
  {
   "cell_type": "code",
   "execution_count": 2,
   "metadata": {},
   "outputs": [],
   "source": [
    "import rasterio\n",
    "\n",
    "nsw_lidar_5m_gridded_path = r\"../src/data/mdbaz54_qg.tif\"\n",
    "nsw_lidar_5m_gridded_raw = rasterio.open(nsw_lidar_5m_gridded_path)"
   ]
  },
  {
   "cell_type": "markdown",
   "metadata": {},
   "source": [
    "## Accessing metadata"
   ]
  },
  {
   "cell_type": "code",
   "execution_count": 3,
   "metadata": {},
   "outputs": [
    {
     "name": "stdout",
     "output_type": "stream",
     "text": [
      "../src/data/mdbaz54_qg.tif,\n",
      "r,\n",
      "False,\n",
      "1,\n",
      "58473,\n",
      "106667,\n",
      "{1: 'float32'},\n",
      "BoundingBox(left=526081.9549781366, bottom=6040512.532387963, right=818446.9549781366, top=6573847.532387963),\n",
      "| 5.00, 0.00, 526081.95|\n",
      "| 0.00,-5.00, 6573847.53|\n",
      "| 0.00, 0.00, 1.00|,\n",
      "EPSG:28354\n"
     ]
    }
   ],
   "source": [
    "print(\n",
    "    nsw_lidar_5m_gridded_raw.name,\n",
    "    nsw_lidar_5m_gridded_raw.mode,\n",
    "    nsw_lidar_5m_gridded_raw.closed,\n",
    "    nsw_lidar_5m_gridded_raw.count,\n",
    "    nsw_lidar_5m_gridded_raw.width,\n",
    "    nsw_lidar_5m_gridded_raw.height,\n",
    "    {i: dtype for i, dtype in zip(nsw_lidar_5m_gridded_raw.indexes, nsw_lidar_5m_gridded_raw.dtypes)},\n",
    "    nsw_lidar_5m_gridded_raw.bounds,\n",
    "    nsw_lidar_5m_gridded_raw.transform,\n",
    "    nsw_lidar_5m_gridded_raw.crs,\n",
    "    sep=\",\\n\"\n",
    "\n",
    ")"
   ]
  },
  {
   "cell_type": "markdown",
   "metadata": {},
   "source": [
    "## Reading raster data"
   ]
  },
  {
   "cell_type": "code",
   "execution_count": 4,
   "metadata": {},
   "outputs": [
    {
     "name": "stdout",
     "output_type": "stream",
     "text": [
      "(1,)\n"
     ]
    }
   ],
   "source": [
    "print(nsw_lidar_5m_gridded_raw.indexes)\n",
    "\n",
    "# This is commented out because it is a big file\n",
    "## band1 = nsw_lidar_5m_gridded_raw.read(1)"
   ]
  },
  {
   "cell_type": "markdown",
   "metadata": {},
   "source": [
    "## Spatial indexing"
   ]
  },
  {
   "cell_type": "code",
   "execution_count": 8,
   "metadata": {},
   "outputs": [
    {
     "name": "stdout",
     "output_type": "stream",
     "text": [
      "10000 20000\n"
     ]
    }
   ],
   "source": [
    "\n",
    "x, y = (\n",
    "    nsw_lidar_5m_gridded_raw.bounds.left + 100000, \n",
    "    nsw_lidar_5m_gridded_raw.bounds.top - 50000\n",
    ")\n",
    "row, col = nsw_lidar_5m_gridded_raw.index(x, y)\n",
    "print(row, col)\n",
    "\n",
    "# This is commented out because it is a big file\n",
    "## band1[row, col]"
   ]
  },
  {
   "cell_type": "code",
   "execution_count": 9,
   "metadata": {},
   "outputs": [
    {
     "data": {
      "text/plain": [
       "(672264.4549781366, 6307180.032387963)"
      ]
     },
     "execution_count": 9,
     "metadata": {},
     "output_type": "execute_result"
    }
   ],
   "source": [
    "# Get the spatial index of a pixel\n",
    "nsw_lidar_5m_gridded_raw.xy(nsw_lidar_5m_gridded_raw.height // 2, nsw_lidar_5m_gridded_raw.width // 2)\n"
   ]
  }
 ],
 "metadata": {
  "kernelspec": {
   "display_name": "venv",
   "language": "python",
   "name": "python3"
  },
  "language_info": {
   "codemirror_mode": {
    "name": "ipython",
    "version": 3
   },
   "file_extension": ".py",
   "mimetype": "text/x-python",
   "name": "python",
   "nbconvert_exporter": "python",
   "pygments_lexer": "ipython3",
   "version": "3.10.12"
  }
 },
 "nbformat": 4,
 "nbformat_minor": 2
}
