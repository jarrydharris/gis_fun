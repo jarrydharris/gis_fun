{
 "cells": [
  {
   "cell_type": "code",
   "execution_count": 3,
   "metadata": {},
   "outputs": [],
   "source": [
    "from rasterio.windows import Window\n",
    "import rasterio as rio"
   ]
  },
  {
   "cell_type": "code",
   "execution_count": 4,
   "metadata": {},
   "outputs": [
    {
     "name": "stdout",
     "output_type": "stream",
     "text": [
      "[[-3.402823e+38 -3.402823e+38 -3.402823e+38 ... -3.402823e+38\n",
      "  -3.402823e+38 -3.402823e+38]\n",
      " [-3.402823e+38 -3.402823e+38 -3.402823e+38 ... -3.402823e+38\n",
      "  -3.402823e+38 -3.402823e+38]\n",
      " [-3.402823e+38 -3.402823e+38 -3.402823e+38 ... -3.402823e+38\n",
      "  -3.402823e+38 -3.402823e+38]\n",
      " ...\n",
      " [-3.402823e+38 -3.402823e+38 -3.402823e+38 ... -3.402823e+38\n",
      "  -3.402823e+38 -3.402823e+38]\n",
      " [-3.402823e+38 -3.402823e+38 -3.402823e+38 ... -3.402823e+38\n",
      "  -3.402823e+38 -3.402823e+38]\n",
      " [-3.402823e+38 -3.402823e+38 -3.402823e+38 ... -3.402823e+38\n",
      "  -3.402823e+38 -3.402823e+38]]\n"
     ]
    }
   ],
   "source": [
    "nsw_lidar_5m_gridded_path = r\"../src/data/mdbaz54_qg.tif\"\n",
    "\n",
    "    \n",
    "    \n",
    "with rio.open(nsw_lidar_5m_gridded_path) as nsw_grid_src:\n",
    "    window_size = (0, 0, 1024, 1024)\n",
    "    nsw_window = nsw_grid_src.read(1, window=Window(*window_size))\n",
    "    print(nsw_window)"
   ]
  }
 ],
 "metadata": {
  "kernelspec": {
   "display_name": "venv",
   "language": "python",
   "name": "python3"
  },
  "language_info": {
   "codemirror_mode": {
    "name": "ipython",
    "version": 3
   },
   "file_extension": ".py",
   "mimetype": "text/x-python",
   "name": "python",
   "nbconvert_exporter": "python",
   "pygments_lexer": "ipython3",
   "version": "3.10.12"
  }
 },
 "nbformat": 4,
 "nbformat_minor": 2
}
